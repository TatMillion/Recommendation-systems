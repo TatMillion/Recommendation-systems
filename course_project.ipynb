{
 "cells": [
  {
   "cell_type": "markdown",
   "id": "4381ff70",
   "metadata": {},
   "source": [
    "# Итоговый проект по курсу \"Рекомендательные системы\""
   ]
  },
  {
   "cell_type": "code",
   "execution_count": 4,
   "id": "f5e9897a",
   "metadata": {},
   "outputs": [],
   "source": [
    "import pandas as pd\n",
    "import numpy as np\n",
    "\n",
    "import math\n",
    "\n",
    "# Метрики\n",
    "from best_rec_lib.metrics import precision_at_k, recall_at_k, ap_k\n",
    "\n",
    "# Префильтрация, работа с фичами, предсказания\n",
    "from best_rec_lib.utils import trainValLvl1Split, prefilter_items, trainTestDf, getRecommendationsLvl2\n",
    "\n",
    "# Класс рекомендера\n",
    "from best_rec_lib.recommenders import MainRecommender\n",
    "\n",
    "import os, sys\n",
    "module_path = os.path.abspath(os.path.join(os.pardir))\n",
    "if module_path not in sys.path:\n",
    "    sys.path.append(module_path)\n",
    "\n",
    "\n",
    "import warnings\n",
    "warnings.filterwarnings(\"ignore\")"
   ]
  },
  {
   "cell_type": "markdown",
   "id": "4ac2f751",
   "metadata": {},
   "source": [
    "### Загрузка данных"
   ]
  },
  {
   "cell_type": "code",
   "execution_count": 5,
   "id": "eb1af3ce",
   "metadata": {},
   "outputs": [],
   "source": [
    "data = pd.read_csv('retail_train.csv')\n",
    "item_features = pd.read_csv('product.csv')\n",
    "user_features = pd.read_csv('hh_demographic.csv')\n",
    "data_test = pd.read_csv('retail_test.csv')"
   ]
  },
  {
   "cell_type": "code",
   "execution_count": 6,
   "id": "807c9592",
   "metadata": {},
   "outputs": [],
   "source": [
    "# column processing\n",
    "item_features.columns = [col.lower() for col in item_features.columns]\n",
    "user_features.columns = [col.lower() for col in user_features.columns]\n",
    "\n",
    "item_features.rename(columns={'product_id': 'item_id'}, inplace=True)\n",
    "user_features.rename(columns={'household_key': 'user_id'}, inplace=True)"
   ]
  },
  {
   "cell_type": "markdown",
   "id": "1dc10c39",
   "metadata": {},
   "source": [
    "**Делим данные на трейнировочную и валидационную выборки для модели 1го уровня**"
   ]
  },
  {
   "cell_type": "code",
   "execution_count": 7,
   "id": "0ae92352",
   "metadata": {},
   "outputs": [],
   "source": [
    "test_user_ids = list(set(data_test.user_id))\n",
    "\n",
    "# Для иодели 1го уровння\n",
    "data_train_lvl_1, data_val_lvl_1 = trainValLvl1Split(data, test_user_ids)\n",
    "\n",
    "# Для иодели 2го уровння\n",
    "data_train_lvl_2 = data_val_lvl_1.copy()\n",
    "data_val_lvl_2 = data_test.copy()"
   ]
  },
  {
   "cell_type": "markdown",
   "id": "32f1e5e6",
   "metadata": {},
   "source": [
    "**Prefilter items**"
   ]
  },
  {
   "cell_type": "code",
   "execution_count": 8,
   "id": "de30a9e4",
   "metadata": {},
   "outputs": [
    {
     "name": "stdout",
     "output_type": "stream",
     "text": [
      "Количество item сокращено с 78673 до 6001\n"
     ]
    }
   ],
   "source": [
    "n_items_before = data_train_lvl_1['item_id'].nunique()\n",
    "\n",
    "data_train_lvl_1 = prefilter_items(data_train_lvl_1, item_features=item_features, take_n_popular=6000)\n",
    "\n",
    "n_items_after = data_train_lvl_1['item_id'].nunique()\n",
    "print('Количество item сокращено с {} до {}'.format(n_items_before, n_items_after))"
   ]
  },
  {
   "cell_type": "markdown",
   "id": "1051d5c3",
   "metadata": {},
   "source": [
    "**Модель 1го уровня**"
   ]
  },
  {
   "cell_type": "code",
   "execution_count": 9,
   "id": "236a10e1",
   "metadata": {},
   "outputs": [
    {
     "data": {
      "application/vnd.jupyter.widget-view+json": {
       "model_id": "8b6261c472174e9aba376bf4656ed30a",
       "version_major": 2,
       "version_minor": 0
      },
      "text/plain": [
       "  0%|          | 0/3 [00:00<?, ?it/s]"
      ]
     },
     "metadata": {},
     "output_type": "display_data"
    },
    {
     "data": {
      "application/vnd.jupyter.widget-view+json": {
       "model_id": "8d5f8e6e87aa4ebbaff0e106e57127cf",
       "version_major": 2,
       "version_minor": 0
      },
      "text/plain": [
       "  0%|          | 0/6001 [00:00<?, ?it/s]"
      ]
     },
     "metadata": {},
     "output_type": "display_data"
    },
    {
     "name": "stdout",
     "output_type": "stream",
     "text": [
      "Wall time: 3.24 s\n"
     ]
    }
   ],
   "source": [
    "%%time\n",
    "recommender = MainRecommender(data_train_lvl_1)"
   ]
  },
  {
   "cell_type": "markdown",
   "id": "e24e49f9",
   "metadata": {},
   "source": [
    "**Cписки рекомендаций для пользователей**"
   ]
  },
  {
   "cell_type": "code",
   "execution_count": 10,
   "id": "a0a69399",
   "metadata": {
    "scrolled": true
   },
   "outputs": [
    {
     "name": "stdout",
     "output_type": "stream",
     "text": [
      "Wall time: 3.23 s\n"
     ]
    }
   ],
   "source": [
    "%%time\n",
    "users_lvl_2 = pd.DataFrame(data_train_lvl_2['user_id'].unique())\n",
    "users_lvl_2.columns = ['user_id']\n",
    "\n",
    "train_users = data_train_lvl_1['user_id'].unique()\n",
    "users_lvl_2 = users_lvl_2[users_lvl_2['user_id'].isin(train_users)]\n",
    "\n",
    "# Получим предсказания. \\\n",
    "users_lvl_2['candidates'] = users_lvl_2['user_id'].apply(lambda x: recommender.get_own_recommendations(x, N=500))"
   ]
  },
  {
   "cell_type": "markdown",
   "id": "32c54b98",
   "metadata": {},
   "source": [
    "**Проверка метрики модели 1го уровня**"
   ]
  },
  {
   "cell_type": "code",
   "execution_count": 11,
   "id": "7ae39175",
   "metadata": {},
   "outputs": [],
   "source": [
    "# На валидационном датасете lvl 1\n",
    "result = data_val_lvl_1.groupby('user_id')['item_id'].unique().reset_index()\n",
    "result.columns=['user_id', 'actual']\n",
    "result = result.merge(users_lvl_2, on='user_id', how='left')\n",
    "result.loc[result['candidates'].isnull(), 'candidates'] = result.loc[result['candidates'].isnull(), 'user_id'].apply(lambda x: recommender.get_own_recommendations(x, N=500))"
   ]
  },
  {
   "cell_type": "code",
   "execution_count": 12,
   "id": "43f25777",
   "metadata": {},
   "outputs": [
    {
     "name": "stdout",
     "output_type": "stream",
     "text": [
      "Precision@k:  0.2510615711252654\n",
      "MAP@k:  0.16654989384288746\n",
      "Recall@k:  0.19588211041688142\n"
     ]
    }
   ],
   "source": [
    "print('Precision@k: ', result.apply(lambda row: precision_at_k(row['candidates'], row['actual'], 5), axis=1).mean())\n",
    "print('MAP@k: ', result.apply(lambda row: ap_k(row['candidates'], row['actual'], 5), axis=1).mean())\n",
    "print('Recall@k: ', result.apply(lambda row: recall_at_k(row['candidates'], row['actual'], 500), axis=1).mean())"
   ]
  },
  {
   "cell_type": "code",
   "execution_count": 13,
   "id": "9fd66c2e",
   "metadata": {},
   "outputs": [],
   "source": [
    "# На тестовом датасете lvl 2\n",
    "result = data_val_lvl_2.groupby('user_id')['item_id'].unique().reset_index()\n",
    "result.columns=['user_id', 'actual']\n",
    "result = result.merge(users_lvl_2, on='user_id', how='left')\n",
    "result.loc[result['candidates'].isnull(), 'candidates'] = result.loc[result['candidates'].isnull(), 'user_id'].apply(lambda x: recommender.get_own_recommendations(x, N=500))"
   ]
  },
  {
   "cell_type": "code",
   "execution_count": 14,
   "id": "3ca0bab0",
   "metadata": {
    "scrolled": true
   },
   "outputs": [
    {
     "name": "stdout",
     "output_type": "stream",
     "text": [
      "Precision@k:  0.14079575596816976\n",
      "MAP@k:  0.0873474801061008\n",
      "Recall@k:  0.20788252151443629\n"
     ]
    }
   ],
   "source": [
    "print('Precision@k: ', result.apply(lambda row: precision_at_k(row['candidates'], row['actual'], 5), axis=1).mean())\n",
    "print('MAP@k: ', result.apply(lambda row: ap_k(row['candidates'], row['actual'], 5), axis=1).mean())\n",
    "print('Recall@k: ', result.apply(lambda row: recall_at_k(row['candidates'], row['actual'], 500), axis=1).mean())"
   ]
  },
  {
   "cell_type": "markdown",
   "id": "6efe03d7",
   "metadata": {},
   "source": [
    "**Датафрейм для обучения модели 2го уровня**"
   ]
  },
  {
   "cell_type": "code",
   "execution_count": 15,
   "id": "cacf2c41",
   "metadata": {
    "scrolled": true
   },
   "outputs": [],
   "source": [
    "s = users_lvl_2.apply(lambda x: pd.Series(x['candidates']), axis=1).stack().reset_index(level=1, drop=True)\n",
    "s.name = 'item_id'\n",
    "\n",
    "users_lvl_2 = users_lvl_2.drop('candidates', axis=1).join(s)\n",
    "users_lvl_2['flag'] = 1"
   ]
  },
  {
   "cell_type": "code",
   "execution_count": 16,
   "id": "9fa04b27",
   "metadata": {},
   "outputs": [],
   "source": [
    "targets_lvl_2 = data_train_lvl_2[['user_id', 'item_id']].copy()\n",
    "targets_lvl_2['target'] = 1  # тут только покупки \n",
    "\n",
    "targets_lvl_2 = users_lvl_2.merge(targets_lvl_2, on=['user_id', 'item_id'], how='left')\n",
    "\n",
    "targets_lvl_2['target'].fillna(0, inplace= True)\n",
    "targets_lvl_2.drop('flag', axis=1, inplace=True)"
   ]
  },
  {
   "cell_type": "code",
   "execution_count": 17,
   "id": "c6906845",
   "metadata": {},
   "outputs": [
    {
     "name": "stdout",
     "output_type": "stream",
     "text": [
      "Wall time: 10.1 s\n"
     ]
    }
   ],
   "source": [
    "%%time\n",
    "# Длоя создания доп. фичей использую data_train_lvl_1. \n",
    "X_train, y_train = trainTestDf(data_train_lvl_1, targets_lvl_2, item_features, user_features)"
   ]
  },
  {
   "cell_type": "markdown",
   "id": "257bd020",
   "metadata": {},
   "source": [
    "**Обучение модели классификации и получение предсказаний**"
   ]
  },
  {
   "cell_type": "code",
   "execution_count": 18,
   "id": "57eac58e",
   "metadata": {},
   "outputs": [],
   "source": [
    "preds_lvl_2 = targets_lvl_2[['user_id', 'item_id', 'target']]"
   ]
  },
  {
   "cell_type": "code",
   "execution_count": 19,
   "id": "2c79e29b",
   "metadata": {},
   "outputs": [
    {
     "name": "stdout",
     "output_type": "stream",
     "text": [
      "Wall time: 14min 42s\n"
     ]
    }
   ],
   "source": [
    "%%time\n",
    "\n",
    "# Рекомендации CatBoost\n",
    "preds_lvl_2['pred_proba'] = recommender.get_CatBoost_lvl2_preds(X_train, y_train)\n",
    "\n",
    "# Рекомендации LGBM\n",
    "# preds_lvl_2['pred_proba'] = recommender.get_LGBM_lvl2_preds(X_train, y_train)"
   ]
  },
  {
   "cell_type": "code",
   "execution_count": 20,
   "id": "edf62e1c",
   "metadata": {},
   "outputs": [],
   "source": [
    "result = data_val_lvl_2.groupby('user_id')['item_id'].unique().reset_index()\n",
    "result.columns=['user_id', 'actual']"
   ]
  },
  {
   "cell_type": "code",
   "execution_count": 21,
   "id": "30f1e569",
   "metadata": {},
   "outputs": [
    {
     "name": "stdout",
     "output_type": "stream",
     "text": [
      "В тестовом дата сете 1885 юзеров\n",
      "В тестовом дата сете 4 новых юзеров\n"
     ]
    }
   ],
   "source": [
    "test_users = result.shape[0]\n",
    "new_test_users = len(set(result['user_id']) - set(preds_lvl_2['user_id']))\n",
    "\n",
    "print('В тестовом дата сете {} юзеров'.format(test_users))\n",
    "print('В тестовом дата сете {} новых юзеров'.format(new_test_users))\n",
    "new_test_users = list(set(result['user_id']) - set(preds_lvl_2['user_id']))"
   ]
  },
  {
   "cell_type": "code",
   "execution_count": 22,
   "id": "79e66db9",
   "metadata": {},
   "outputs": [],
   "source": [
    "# Для каждого пользователя даем 5 уникальных (!!!) рекомендаций.\n",
    "result['classification_rec'] = result['user_id'].map(lambda x: getRecommendationsLvl2(preds_lvl_2.loc[preds_lvl_2['user_id'] == x], recommender, N=5))"
   ]
  },
  {
   "cell_type": "markdown",
   "id": "f5b0341e",
   "metadata": {},
   "source": [
    "**Рассчет метрики результата работы моделей lvl1 + lvl2**"
   ]
  },
  {
   "cell_type": "code",
   "execution_count": 23,
   "id": "273c9a95",
   "metadata": {},
   "outputs": [
    {
     "name": "stdout",
     "output_type": "stream",
     "text": [
      "Precision@k:  0.3006896551724138\n",
      "MAP@k:  0.23210079575596818\n",
      "Recall@k:  0.04657301805921951\n"
     ]
    }
   ],
   "source": [
    "print('Precision@k: ', result.apply(lambda row: precision_at_k(row['classification_rec'], row['actual'], 5), axis=1).mean())\n",
    "print('MAP@k: ', result.apply(lambda row: ap_k(row['classification_rec'], row['actual'], 5), axis=1).mean())\n",
    "print('Recall@k: ', result.apply(lambda row: recall_at_k(row['classification_rec'], row['actual'], 5), axis=1).mean())"
   ]
  },
  {
   "cell_type": "markdown",
   "id": "724d599f",
   "metadata": {},
   "source": [
    "**СОхранение предсказаний**"
   ]
  },
  {
   "cell_type": "code",
   "execution_count": 24,
   "id": "cc0893f0",
   "metadata": {},
   "outputs": [],
   "source": [
    "# Столбцы: user_id, actual, classification_rec\n",
    "result.to_csv('predictions.csv', index=False)"
   ]
  },
  {
   "cell_type": "code",
   "execution_count": null,
   "id": "1f5ad98f",
   "metadata": {},
   "outputs": [],
   "source": []
  }
 ],
 "metadata": {
  "kernelspec": {
   "display_name": "Python 3 (ipykernel)",
   "language": "python",
   "name": "python3"
  },
  "language_info": {
   "codemirror_mode": {
    "name": "ipython",
    "version": 3
   },
   "file_extension": ".py",
   "mimetype": "text/x-python",
   "name": "python",
   "nbconvert_exporter": "python",
   "pygments_lexer": "ipython3",
   "version": "3.9.13"
  }
 },
 "nbformat": 4,
 "nbformat_minor": 5
}
